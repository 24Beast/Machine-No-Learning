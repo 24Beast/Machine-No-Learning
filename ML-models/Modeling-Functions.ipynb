{
 "cells": [
  {
   "cell_type": "code",
   "execution_count": 4,
   "metadata": {},
   "outputs": [],
   "source": [
    "import tensorflow as tf\n",
    "import numpy as np\n",
    "from tensorflow.keras import Sequential\n",
    "from tensorflow.keras.layers import Dense, Conv2D, Flatten\n",
    "from math import floor, ceil"
   ]
  },
  {
   "cell_type": "code",
   "execution_count": 9,
   "metadata": {},
   "outputs": [
    {
     "data": {
      "text/plain": [
       "175"
      ]
     },
     "execution_count": 9,
     "metadata": {},
     "output_type": "execute_result"
    }
   ],
   "source": [
    "f = open(\"model.py\",'w')\n",
    "f.write(\"import tensorflow as tf \\nimport numpy as np \\nfrom tensorflow.keras import Sequential \\nfrom tensorflow.keras.layers import Dense, Conv2D, Flatten \\nfrom math import floor, ceil\\n\")\n"
   ]
  },
  {
   "cell_type": "code",
   "execution_count": 10,
   "metadata": {},
   "outputs": [
    {
     "data": {
      "text/plain": [
       "51"
      ]
     },
     "execution_count": 10,
     "metadata": {},
     "output_type": "execute_result"
    }
   ],
   "source": [
    "f.write(\"class modelToBeImported():\\n\\tdef createModel(self):\\n\")"
   ]
  },
  {
   "cell_type": "code",
   "execution_count": 34,
   "metadata": {},
   "outputs": [],
   "source": [
    "# Linear Neural Network / Multi Layer Perceptron Network\n",
    "\n",
    "\n",
    "# inputs to the construction function:\n",
    "# number of layers(compulsory, including input and output layers, >=2)\n",
    "# number of input variables(compulsory)\n",
    "# number of output variables(compulsory)\n",
    "# type of model: Regression or Classification (Default: Regression)\n",
    "# array of number of nodes in each hidden layer (Default: increases uniformly for half of the layers and then decreases uniformly for the latter half)\n",
    "# activation functions excluding input layer(Default: None for hidden layers and for output layer: Softmax(Classification) or None(Regression))\n",
    "# \n",
    "\n",
    "def createDenseNetwork(numberOfLayers, numberOfInputNodes, numberOfOutputNodes, typeOfModel = \"Regression\", hiddenLayerNodes = None, activationFunctions = None):\n",
    "    f = open(\"model.py\",'w')\n",
    "    f.write(\"import tensorflow as tf \\nimport numpy as np \\nfrom tensorflow.keras import Sequential \\nfrom tensorflow.keras.layers import Dense, Conv2D, Flatten \\nfrom math import floor, ceil\\n\")    \n",
    "    f.write(\"class modelToBeImported():\\n\\tdef createModel(self):\\n\")\n",
    "    layersAdded = 0\n",
    "    if activationFunctions == None:\n",
    "        activationFunctions = [None]*(numberOfLayers-1)\n",
    "    model = Sequential()\n",
    "    f.write(\"\\t\\tself.model = Sequential()\\n\")\n",
    "    if numberOfLayers<2:\n",
    "        print(\"Dude seriously??!!!!!! number of layers is less than 2, not possible...\")\n",
    "        # throw exception\n",
    "        return model\n",
    "    elif (int(numberOfInputNodes) != numberOfInputNodes):\n",
    "        print(\"Bro seriously?! fractional nodes?!\")\n",
    "        # throw exception\n",
    "        return model\n",
    "    elif numberOfLayers == 2:\n",
    "        f.write(\"\\t\\tself.\")\n",
    "        model.add(Dense(numberOfOutputNodes, input_shape = (numberOfInputNodes,), activation = activationFunctions[0]))\n",
    "        f.write(\"model.add(Dense({}, input_shape = ({},), activation = {}))\\n\".format(numberOfOutputNodes, numberOfInputNodes, None if (activationFunctions[0] == None) else (\"\\\"{}\\\"\".format(activationFunctions[0]))))\n",
    "        model.summary()\n",
    "        layersAdded += 1\n",
    "        return model\n",
    "    else:\n",
    "        numberOfHiddenLayers = numberOfLayers - 2\n",
    "        if hiddenLayerNodes == None:\n",
    "            threshold = 512\n",
    "            f.write(\"\\t\\tself.\")\n",
    "            model.add(Dense(min(numberOfInputNodes*2,threshold), input_shape = (numberOfInputNodes,), activation = activationFunctions[layersAdded]))\n",
    "            f.write(\"model.add(Dense({}, input_shape = ({},), activation = {}))\\n\".format(min(numberOfInputNodes*2,threshold),numberOfInputNodes,None if (activationFunctions[layersAdded] == None) else (\"\\\"{}\\\"\".format(activationFunctions[layersAdded]))))\n",
    "            layersAdded += 1\n",
    "            print(\"numberOfHiddenLayers: \\t\",ceil(numberOfHiddenLayers))\n",
    "            print(\"Ceil value: \\t\",ceil(numberOfHiddenLayers/2))\n",
    "            for layer in range(1,ceil(numberOfHiddenLayers/2)):\n",
    "                nodeCount = min(numberOfInputNodes*(2**(layer+1)),threshold)\n",
    "                f.write(\"\\t\\tself.\")\n",
    "                model.add(Dense(nodeCount, activation = activationFunctions[layersAdded]))\n",
    "                f.write(\"model.add(Dense({}, activation = {}))\\n\".format(nodeCount,None if (activationFunctions[layersAdded] == None) else (\"\\\"{}\\\"\".format(activationFunctions[layersAdded]))))\n",
    "                layersAdded += 1\n",
    "                print(nodeCount)\n",
    "            for layer in range(ceil(numberOfHiddenLayers/2),numberOfHiddenLayers):\n",
    "                nodeCount = int(nodeCount/2)\n",
    "                nodeCount = max(nodeCount,numberOfOutputNodes)\n",
    "                f.write(\"\\t\\tself.\")\n",
    "                model.add(Dense(nodeCount, activation = activationFunctions[layersAdded]))\n",
    "                f.write(\"model.add(Dense({}, activation = {}))\\n\".format(nodeCount,None if (activationFunctions[layersAdded] == None) else (\"\\\"{}\\\"\".format(activationFunctions[layersAdded]))))\n",
    "                layersAdded += 1\n",
    "        else:\n",
    "            f.write(\"\\t\\tself.\")\n",
    "            model.add(Dense(hiddenLayerNodes[0], input_shape = (numberOfInputNodes,), activation = activationFunctions[layersAdded]))\n",
    "            f.write(\"model.add(Dense({}, input_shape = ({},), activation = {}))\\n\".format(hiddenLayerNodes[0], numberOfInputNodes, None if (activationFunctions[layersAdded] == None) else (\"\\\"{}\\\"\".format(activationFunctions[layersAdded]))))\n",
    "            layersAdded += 1\n",
    "            for hiddenLayer in range(1,len(hiddenLayerNodes)):\n",
    "                f.write(\"\\t\\tself.\")\n",
    "                model.add(Dense(hiddenLayerNodes[hiddenLayer], activation = activationFunctions[layersAdded]))\n",
    "                f.write(\"model.add(Dense({}, activation = {}))\\n\".format(hiddenLayerNodes[hiddenLayer], None if (activationFunctions[layersAdded] == None) else (\"\\\"{}\\\"\".format(activationFunctions[layersAdded]))))\n",
    "                layersAdded += 1\n",
    "                \n",
    "        if typeOfModel == \"Regression\":\n",
    "            f.write(\"\\t\\tself.\")\n",
    "            model.add(Dense(numberOfOutputNodes, activation = activationFunctions[layersAdded]))\n",
    "            f.write(\"model.add(Dense({}, activation = {}))\\n\".format(numberOfOutputNodes,activationFunctions[layersAdded]))\n",
    "        elif typeOfModel == \"Classification\":\n",
    "            f.write(\"\\t\\tself.\")\n",
    "            model.add(Dense(numberOfOutputNodes, activation = \"softmax\" if (activationFunctions[layersAdded] == None) else activationFunctions[layersAdded]))\n",
    "            f.write(\"model.add(Dense({}, activation = {}))\\n\".format(numberOfOutputNodes, \"\\\"softmax\\\"\" if (activationFunctions[layersAdded] == None) else (\"\\\"{}\\\"\".format(activationFunctions[layersAdded]))))\n",
    "\n",
    "        model.summary()\n",
    "        f.close()\n",
    "        return model\n",
    "                \n",
    "            \n",
    "    "
   ]
  },
  {
   "cell_type": "code",
   "execution_count": 31,
   "metadata": {},
   "outputs": [
    {
     "name": "stdout",
     "output_type": "stream",
     "text": [
      "Model: \"sequential_11\"\n",
      "_________________________________________________________________\n",
      "Layer (type)                 Output Shape              Param #   \n",
      "=================================================================\n",
      "dense_50 (Dense)             (None, 1)                 6         \n",
      "=================================================================\n",
      "Total params: 6\n",
      "Trainable params: 6\n",
      "Non-trainable params: 0\n",
      "_________________________________________________________________\n",
      "Model: \"sequential_11\"\n",
      "_________________________________________________________________\n",
      "Layer (type)                 Output Shape              Param #   \n",
      "=================================================================\n",
      "dense_50 (Dense)             (None, 1)                 6         \n",
      "=================================================================\n",
      "Total params: 6\n",
      "Trainable params: 6\n",
      "Non-trainable params: 0\n",
      "_________________________________________________________________\n"
     ]
    }
   ],
   "source": [
    "trialModel = createDenseNetwork(2,5,1)\n",
    "trialModel.summary()"
   ]
  },
  {
   "cell_type": "code",
   "execution_count": 32,
   "metadata": {},
   "outputs": [],
   "source": [
    "f.close()"
   ]
  },
  {
   "cell_type": "code",
   "execution_count": 35,
   "metadata": {},
   "outputs": [
    {
     "name": "stdout",
     "output_type": "stream",
     "text": [
      "numberOfHiddenLayers: \t 5\n",
      "Ceil value: \t 3\n",
      "20\n",
      "40\n",
      "Model: \"sequential_13\"\n",
      "_________________________________________________________________\n",
      "Layer (type)                 Output Shape              Param #   \n",
      "=================================================================\n",
      "dense_57 (Dense)             (None, 10)                60        \n",
      "_________________________________________________________________\n",
      "dense_58 (Dense)             (None, 20)                220       \n",
      "_________________________________________________________________\n",
      "dense_59 (Dense)             (None, 40)                840       \n",
      "_________________________________________________________________\n",
      "dense_60 (Dense)             (None, 20)                820       \n",
      "_________________________________________________________________\n",
      "dense_61 (Dense)             (None, 10)                210       \n",
      "_________________________________________________________________\n",
      "dense_62 (Dense)             (None, 1)                 11        \n",
      "=================================================================\n",
      "Total params: 2,161\n",
      "Trainable params: 2,161\n",
      "Non-trainable params: 0\n",
      "_________________________________________________________________\n"
     ]
    }
   ],
   "source": [
    "trialModel2 = createDenseNetwork(7,5,1, typeOfModel = \"Classification\")"
   ]
  },
  {
   "cell_type": "code",
   "execution_count": 36,
   "metadata": {},
   "outputs": [
    {
     "name": "stdout",
     "output_type": "stream",
     "text": [
      "numberOfHiddenLayers: \t 8\n",
      "Ceil value: \t 4\n",
      "20\n",
      "40\n",
      "80\n",
      "Model: \"sequential_14\"\n",
      "_________________________________________________________________\n",
      "Layer (type)                 Output Shape              Param #   \n",
      "=================================================================\n",
      "dense_63 (Dense)             (None, 10)                60        \n",
      "_________________________________________________________________\n",
      "dense_64 (Dense)             (None, 20)                220       \n",
      "_________________________________________________________________\n",
      "dense_65 (Dense)             (None, 40)                840       \n",
      "_________________________________________________________________\n",
      "dense_66 (Dense)             (None, 80)                3280      \n",
      "_________________________________________________________________\n",
      "dense_67 (Dense)             (None, 40)                3240      \n",
      "_________________________________________________________________\n",
      "dense_68 (Dense)             (None, 20)                820       \n",
      "_________________________________________________________________\n",
      "dense_69 (Dense)             (None, 10)                210       \n",
      "_________________________________________________________________\n",
      "dense_70 (Dense)             (None, 5)                 55        \n",
      "_________________________________________________________________\n",
      "dense_71 (Dense)             (None, 1)                 6         \n",
      "=================================================================\n",
      "Total params: 8,731\n",
      "Trainable params: 8,731\n",
      "Non-trainable params: 0\n",
      "_________________________________________________________________\n"
     ]
    }
   ],
   "source": [
    "trialModel2 = createDenseNetwork(10, 5, 1, typeOfModel=\"Classification\")"
   ]
  },
  {
   "cell_type": "code",
   "execution_count": 4,
   "metadata": {},
   "outputs": [
    {
     "name": "stdout",
     "output_type": "stream",
     "text": [
      "0\n"
     ]
    }
   ],
   "source": [
    "# Pro Coder Debugging\n",
    "for i in range(1):\n",
    "    print(i)"
   ]
  },
  {
   "cell_type": "code",
   "execution_count": 28,
   "metadata": {},
   "outputs": [],
   "source": [
    "# Standard 2D-CNN network\n",
    "\n",
    "# structure: upscaling CNN layers followed by flatten layer, followed by downscaling dense layers\n",
    "# \n",
    "# inputs to the construction function:\n",
    "# number of convlayers(compulsory) these do not include the input layer i.e. can be >=1\n",
    "# number of denselayers(compulsory) these do not include the output layer i.e. can be >=1\n",
    "# input_shape((height, width, channels),compulsory)\n",
    "# number of output categories(compulsory)\n",
    "# type of model: Regression or Classification (Default: Classification)\n",
    "# array of number of filters in each conv layer (Default: doubles the number of filters in each conv layer)\n",
    "# array of kernel sizes (Default: 3x3)\n",
    "# array of strides (Default: 1x1)\n",
    "# padding (Default: Valid (i.e. No padding))\n",
    "# \n",
    "# \n",
    "# activation functions(Default: None for hidden layers and for output layer: Softmax(Classification) or None(Regression))\n",
    "# \n",
    "# \n",
    "# \n",
    "# \n",
    "# \n",
    "def create2DCNNNetwork(numOfConvLayers, numOfDenseLayers, inputShape, numOfOutCats, typeOfModel = \"Classification\", numOfFilters = None, kernelSizes = None, strides = None, padding = \"valid\", activationFunctions = None):\n",
    "    f = open(\"model.py\",'w')\n",
    "    f.write(\"import tensorflow as tf \\nimport numpy as np \\nfrom tensorflow.keras import Sequential \\nfrom tensorflow.keras.layers import Dense, Conv2D, Flatten \\nfrom math import floor, ceil\\n\")    \n",
    "    f.write(\"class modelToBeImported():\\n\\tdef createModel(self):\\n\")\n",
    "    model = Sequential()\n",
    "    f.write(\"\\t\\tself.model = Sequential()\\n\")\n",
    "    if numOfFilters == None:\n",
    "        fs = inputShape[-1]\n",
    "        numOfFilters = []\n",
    "        for i in range(numOfConvLayers):\n",
    "            numOfFilters.append(2*fs)\n",
    "            fs = 2*fs\n",
    "    else:\n",
    "        if len(numOfFilters != numOfConvLayers):\n",
    "            # throw error\n",
    "            return\n",
    "    if kernelSizes == None:\n",
    "        kernelSizes = [3]*numOfConvLayers\n",
    "    if strides == None:\n",
    "        strides = [(1,1)]*numOfConvLayers\n",
    "    if activationFunctions == None:\n",
    "        activationFunctions = [None]*(numOfConvLayers+numOfDenseLayers)\n",
    "        if typeOfModel == \"Classification\":\n",
    "            activationFunctions.append(\"softmax\")\n",
    "    \n",
    "    # Adding Convolution Layers: default pattern follows doubling number of filters\n",
    "    f.write(\"\\t\\tself.\")\n",
    "    model.add(Conv2D(numOfFilters[0], kernelSizes[0], strides[0], padding, input_shape = (inputShape[-3],inputShape[-2], inputShape[-1]), activation = activationFunctions[0]))\n",
    "    f.write(\"model.add(Conv2D({}, {}, {}, \\\"{}\\\", input_shape = ({},{}, {}), activation = {}))\\n\".format(numOfFilters[0], kernelSizes[0], strides[0], padding, inputShape[-3],inputShape[-2], inputShape[-1], None if (activationFunctions[0] == None) else (\"\\\"{}\\\"\".format(activationFunctions[0]))))\n",
    "    for i in range(1,numOfConvLayers):\n",
    "        f.write(\"\\t\\tself.\")\n",
    "        model.add(Conv2D(numOfFilters[i], kernelSizes[i], strides[i], padding, activation = activationFunctions[i]))\n",
    "        f.write(\"model.add(Conv2D({}, {}, {}, \\\"{}\\\", activation = {}))\\n\".format(numOfFilters[i], kernelSizes[i], strides[i], padding, None if (activationFunctions[i] == None) else (\"\\\"{}\\\"\".format(activationFunctions[i]))))\n",
    "    \n",
    "    # Adding flattening later to change [height, width, filters] to [height x width x filters]\n",
    "    model.add(Flatten())\n",
    "    f.write(\"\\t\\tself.model.add(Flatten())\\n\")\n",
    "    \n",
    "    # Adding Dense Layers: default pattern follows number of nodes = max(outCategories, previousLayerNodes/2)\n",
    "    nodeCount = model.output.shape[-1]\n",
    "    nodeCountArray = []\n",
    "    nodeCount = max(int(nodeCount/2),numOfOutCats)\n",
    "    nodeCountArray.append(nodeCount)\n",
    "    for i in range(numOfDenseLayers):\n",
    "        nodeCount = max(int(nodeCount/2),numOfOutCats)\n",
    "        nodeCountArray.append(nodeCount)\n",
    "    print(activationFunctions)\n",
    "    for i in range(numOfDenseLayers):\n",
    "        f.write(\"\\t\\tself.\")\n",
    "        model.add(Dense(nodeCountArray[i], activation = activationFunctions[i+numOfConvLayers]))\n",
    "        f.write(\"model.add(Dense({}, activation = {}))\\n\".format(nodeCountArray[i], None if (activationFunctions[i+numOfConvLayers] == None) else (\"\\\"{}\\\"\".format(activationFunctions[i+numOfConvLayers]))))\n",
    "    \n",
    "    f.write(\"\\t\\tself.\")\n",
    "    model.add(Dense(numOfOutCats, activation = activationFunctions[-1]))\n",
    "    f.write(\"model.add(Dense({}, activation = {}))\\n\".format(numOfOutCats, None if (activationFunctions[-1] == None) else (\"\\\"{}\\\"\".format(activationFunctions[-1]))))\n",
    "    model.summary()\n",
    "    f.close()\n",
    "    return model"
   ]
  },
  {
   "cell_type": "code",
   "execution_count": 29,
   "metadata": {},
   "outputs": [
    {
     "name": "stdout",
     "output_type": "stream",
     "text": [
      "[None, None, None, None, None, None, None, 'softmax']\n",
      "Model: \"sequential_10\"\n",
      "_________________________________________________________________\n",
      "Layer (type)                 Output Shape              Param #   \n",
      "=================================================================\n",
      "conv2d_15 (Conv2D)           (None, 10, 10, 6)         168       \n",
      "_________________________________________________________________\n",
      "conv2d_16 (Conv2D)           (None, 8, 8, 12)          660       \n",
      "_________________________________________________________________\n",
      "conv2d_17 (Conv2D)           (None, 6, 6, 24)          2616      \n",
      "_________________________________________________________________\n",
      "flatten_5 (Flatten)          (None, 864)               0         \n",
      "_________________________________________________________________\n",
      "dense_45 (Dense)             (None, 432)               373680    \n",
      "_________________________________________________________________\n",
      "dense_46 (Dense)             (None, 216)               93528     \n",
      "_________________________________________________________________\n",
      "dense_47 (Dense)             (None, 108)               23436     \n",
      "_________________________________________________________________\n",
      "dense_48 (Dense)             (None, 54)                5886      \n",
      "_________________________________________________________________\n",
      "dense_49 (Dense)             (None, 3)                 165       \n",
      "=================================================================\n",
      "Total params: 500,139\n",
      "Trainable params: 500,139\n",
      "Non-trainable params: 0\n",
      "_________________________________________________________________\n",
      "Model: \"sequential_10\"\n",
      "_________________________________________________________________\n",
      "Layer (type)                 Output Shape              Param #   \n",
      "=================================================================\n",
      "conv2d_15 (Conv2D)           (None, 10, 10, 6)         168       \n",
      "_________________________________________________________________\n",
      "conv2d_16 (Conv2D)           (None, 8, 8, 12)          660       \n",
      "_________________________________________________________________\n",
      "conv2d_17 (Conv2D)           (None, 6, 6, 24)          2616      \n",
      "_________________________________________________________________\n",
      "flatten_5 (Flatten)          (None, 864)               0         \n",
      "_________________________________________________________________\n",
      "dense_45 (Dense)             (None, 432)               373680    \n",
      "_________________________________________________________________\n",
      "dense_46 (Dense)             (None, 216)               93528     \n",
      "_________________________________________________________________\n",
      "dense_47 (Dense)             (None, 108)               23436     \n",
      "_________________________________________________________________\n",
      "dense_48 (Dense)             (None, 54)                5886      \n",
      "_________________________________________________________________\n",
      "dense_49 (Dense)             (None, 3)                 165       \n",
      "=================================================================\n",
      "Total params: 500,139\n",
      "Trainable params: 500,139\n",
      "Non-trainable params: 0\n",
      "_________________________________________________________________\n"
     ]
    }
   ],
   "source": [
    "cMod = create2DCNNNetwork(3, 4, (12,12,3), 3)\n",
    "cMod.summary()"
   ]
  },
  {
   "cell_type": "code",
   "execution_count": 6,
   "metadata": {},
   "outputs": [
    {
     "name": "stdout",
     "output_type": "stream",
     "text": [
      "Model: \"sequential_3\"\n",
      "_________________________________________________________________\n",
      "Layer (type)                 Output Shape              Param #   \n",
      "=================================================================\n",
      "conv2d_6 (Conv2D)            (None, 26, 26, 6)         168       \n",
      "_________________________________________________________________\n",
      "conv2d_7 (Conv2D)            (None, 24, 24, 12)        660       \n",
      "_________________________________________________________________\n",
      "flatten_3 (Flatten)          (None, 6912)              0         \n",
      "=================================================================\n",
      "Total params: 828\n",
      "Trainable params: 828\n",
      "Non-trainable params: 0\n",
      "_________________________________________________________________\n",
      "6912\n"
     ]
    }
   ],
   "source": [
    "model = Sequential()\n",
    "model.add(Conv2D(6, 3, input_shape = (28,28,3)))\n",
    "model.add(Conv2D(12, 3))\n",
    "model.add(Flatten())\n",
    "model.summary()\n",
    "print(model.output.shape[-1])"
   ]
  },
  {
   "cell_type": "code",
   "execution_count": null,
   "metadata": {},
   "outputs": [],
   "source": []
  },
  {
   "cell_type": "code",
   "execution_count": null,
   "metadata": {},
   "outputs": [],
   "source": []
  },
  {
   "cell_type": "code",
   "execution_count": null,
   "metadata": {},
   "outputs": [],
   "source": []
  },
  {
   "cell_type": "code",
   "execution_count": null,
   "metadata": {},
   "outputs": [],
   "source": []
  }
 ],
 "metadata": {
  "kernelspec": {
   "display_name": "Python 3",
   "language": "python",
   "name": "python3"
  },
  "language_info": {
   "codemirror_mode": {
    "name": "ipython",
    "version": 3
   },
   "file_extension": ".py",
   "mimetype": "text/x-python",
   "name": "python",
   "nbconvert_exporter": "python",
   "pygments_lexer": "ipython3",
   "version": "3.6.9"
  }
 },
 "nbformat": 4,
 "nbformat_minor": 4
}
