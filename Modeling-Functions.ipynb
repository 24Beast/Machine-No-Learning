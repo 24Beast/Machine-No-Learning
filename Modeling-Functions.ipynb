{
 "cells": [
  {
   "cell_type": "code",
   "execution_count": 27,
   "metadata": {},
   "outputs": [],
   "source": [
    "import tensorflow as tf\n",
    "import numpy as np\n",
    "from tensorflow.keras import Sequential\n",
    "from tensorflow.keras.layers import Dense, Conv2D\n",
    "from math import floor, ceil"
   ]
  },
  {
   "cell_type": "code",
   "execution_count": 54,
   "metadata": {},
   "outputs": [],
   "source": [
    "# Linear Neural Network / Multi Layer Perceptron Network\n",
    "\n",
    "\n",
    "# inputs to the construction function:\n",
    "# number of layers(compulsory, including input and output layers, >=2)\n",
    "# number of input variables(compulsory)\n",
    "# number of output variables(compulsory)\n",
    "# type of model: Regression or Classification (Default: Regression)\n",
    "# array of number of nodes in each hidden layer (Default: increases uniformly for half of the layers and then decreases uniformly for the latter half)\n",
    "# activation functions excluding input layer(Default: None for hidden layers and for output layer: Softmax(Classification) or None(Regression))\n",
    "# \n",
    "\n",
    "def createDenseNetwork(numberOfLayers, numberOfInputNodes, numberOfOutputNodes, typeOfModel = \"Regression\", hiddenLayerNodes = None, activationFunctions = None):\n",
    "    layersAdded = 0\n",
    "    if activationFunctions == None:\n",
    "        activationFunctions = [None]*(numberOfLayers-1)\n",
    "    model = Sequential()\n",
    "    if numberOfLayers<2:\n",
    "        print(\"Dude seriously??!!!!!! number of layers is less than 2, not possible...\")\n",
    "        # throw exception\n",
    "        return model\n",
    "    elif (int(numberOfInputNodes) != numberOfInputNodes):\n",
    "        print(\"Bro seriously?! fractional nodes?!\")\n",
    "        # throw exception\n",
    "        return model\n",
    "    elif numberOfLayers == 2:\n",
    "        model.add(Dense(numberOfOutputNodes, input_shape = (numberOfInputNodes,), activation = activationFunctions[0]))\n",
    "        model.summary()\n",
    "        layersAdded += 1\n",
    "        return model\n",
    "    else:\n",
    "        numberOfHiddenLayers = numberOfLayers - 2\n",
    "        if hiddenLayerNodes == None:\n",
    "            threshold = 512\n",
    "            model.add(Dense(min(numberOfInputNodes*2,threshold), input_shape = (numberOfInputNodes,), activation = activationFunctions[layersAdded]))\n",
    "            layersAdded += 1\n",
    "            print(\"numberOfHiddenLayers: \\t\",ceil(numberOfHiddenLayers))\n",
    "            print(\"Ceil value: \\t\",ceil(numberOfHiddenLayers/2))\n",
    "            for layer in range(1,ceil(numberOfHiddenLayers/2)):\n",
    "                nodeCount = min(numberOfInputNodes*(2**(layer+1)),threshold)\n",
    "                model.add(Dense(nodeCount, activation = activationFunctions[layersAdded]))\n",
    "                layersAdded += 1\n",
    "                print(nodeCount)\n",
    "            for layer in range(ceil(numberOfHiddenLayers/2),numberOfHiddenLayers):\n",
    "                nodeCount = int(nodeCount/2)\n",
    "                nodeCount = max(nodeCount,numberOfOutputNodes)\n",
    "                model.add(Dense(nodeCount, activation = activationFunctions[layersAdded]))\n",
    "                layersAdded += 1\n",
    "        else:\n",
    "            model.add(Dense(hiddenLayerNodes[0], input_shape = (numberOfInputNodes,), activation = activationFunctions[layersAdded]))\n",
    "            layersAdded += 1\n",
    "            for nodeCount in range(1,len(hiddenLayerNodes)):\n",
    "                model.add(Dense(hiddenLayerNodes[nodeCount], activation = activationFunctions[layersAdded]))\n",
    "                layersAdded += 1\n",
    "                \n",
    "        if typeOfModel == \"Regression\":\n",
    "            model.add(Dense(numberOfOutputNodes, activation = activationFunctions[layersAdded]))\n",
    "        elif typeOfModel == \"Classification\":\n",
    "            model.add(Dense(numberOfOutputNodes, activation = \"softmax\" if (activationFunctions[layersAdded] == None) else activationFunctions[layersAdded]))\n",
    "        \n",
    "        model.summary()\n",
    "        return model\n",
    "                \n",
    "            \n",
    "    "
   ]
  },
  {
   "cell_type": "code",
   "execution_count": 55,
   "metadata": {},
   "outputs": [
    {
     "name": "stdout",
     "output_type": "stream",
     "text": [
      "Model: \"sequential_29\"\n",
      "_________________________________________________________________\n",
      "Layer (type)                 Output Shape              Param #   \n",
      "=================================================================\n",
      "dense_62 (Dense)             (None, 1)                 6         \n",
      "=================================================================\n",
      "Total params: 6\n",
      "Trainable params: 6\n",
      "Non-trainable params: 0\n",
      "_________________________________________________________________\n",
      "Model: \"sequential_29\"\n",
      "_________________________________________________________________\n",
      "Layer (type)                 Output Shape              Param #   \n",
      "=================================================================\n",
      "dense_62 (Dense)             (None, 1)                 6         \n",
      "=================================================================\n",
      "Total params: 6\n",
      "Trainable params: 6\n",
      "Non-trainable params: 0\n",
      "_________________________________________________________________\n"
     ]
    }
   ],
   "source": [
    "trialModel = createDenseNetwork(2,5,1)\n",
    "trialModel.summary()"
   ]
  },
  {
   "cell_type": "code",
   "execution_count": 56,
   "metadata": {},
   "outputs": [
    {
     "name": "stdout",
     "output_type": "stream",
     "text": [
      "numberOfHiddenLayers: \t 5\n",
      "Ceil value: \t 3\n",
      "20\n",
      "40\n",
      "Model: \"sequential_30\"\n",
      "_________________________________________________________________\n",
      "Layer (type)                 Output Shape              Param #   \n",
      "=================================================================\n",
      "dense_63 (Dense)             (None, 10)                60        \n",
      "_________________________________________________________________\n",
      "dense_64 (Dense)             (None, 20)                220       \n",
      "_________________________________________________________________\n",
      "dense_65 (Dense)             (None, 40)                840       \n",
      "_________________________________________________________________\n",
      "dense_66 (Dense)             (None, 20)                820       \n",
      "_________________________________________________________________\n",
      "dense_67 (Dense)             (None, 10)                210       \n",
      "_________________________________________________________________\n",
      "dense_68 (Dense)             (None, 1)                 11        \n",
      "=================================================================\n",
      "Total params: 2,161\n",
      "Trainable params: 2,161\n",
      "Non-trainable params: 0\n",
      "_________________________________________________________________\n"
     ]
    }
   ],
   "source": [
    "trialModel2 = createDenseNetwork(7,5,1)"
   ]
  },
  {
   "cell_type": "code",
   "execution_count": 57,
   "metadata": {},
   "outputs": [
    {
     "name": "stdout",
     "output_type": "stream",
     "text": [
      "numberOfHiddenLayers: \t 8\n",
      "Ceil value: \t 4\n",
      "20\n",
      "40\n",
      "80\n",
      "Model: \"sequential_31\"\n",
      "_________________________________________________________________\n",
      "Layer (type)                 Output Shape              Param #   \n",
      "=================================================================\n",
      "dense_69 (Dense)             (None, 10)                60        \n",
      "_________________________________________________________________\n",
      "dense_70 (Dense)             (None, 20)                220       \n",
      "_________________________________________________________________\n",
      "dense_71 (Dense)             (None, 40)                840       \n",
      "_________________________________________________________________\n",
      "dense_72 (Dense)             (None, 80)                3280      \n",
      "_________________________________________________________________\n",
      "dense_73 (Dense)             (None, 40)                3240      \n",
      "_________________________________________________________________\n",
      "dense_74 (Dense)             (None, 20)                820       \n",
      "_________________________________________________________________\n",
      "dense_75 (Dense)             (None, 10)                210       \n",
      "_________________________________________________________________\n",
      "dense_76 (Dense)             (None, 5)                 55        \n",
      "_________________________________________________________________\n",
      "dense_77 (Dense)             (None, 1)                 6         \n",
      "=================================================================\n",
      "Total params: 8,731\n",
      "Trainable params: 8,731\n",
      "Non-trainable params: 0\n",
      "_________________________________________________________________\n"
     ]
    }
   ],
   "source": [
    "trialModel2 = createDenseNetwork(10, 5, 1, typeOfModel=\"Classification\")"
   ]
  },
  {
   "cell_type": "code",
   "execution_count": 4,
   "metadata": {},
   "outputs": [
    {
     "name": "stdout",
     "output_type": "stream",
     "text": [
      "0\n"
     ]
    }
   ],
   "source": [
    "# Pro Coder Debugging\n",
    "for i in range(1):\n",
    "    print(i)"
   ]
  },
  {
   "cell_type": "code",
   "execution_count": null,
   "metadata": {},
   "outputs": [],
   "source": [
    "# Standard 2D-CNN network\n",
    "\n",
    "# structure: upscaling CNN layers followed by flatten layer, followed by downscaling dense layers\n",
    "# \n",
    "# inputs to the construction function:\n",
    "# number of convlayers(compulsory)\n",
    "# number of denselayers(compulsory)\n",
    "# input_shape(2D,compulsory)\n",
    "# number of output categories(compulsory)\n",
    "# type of model: Regression or Classification (Default: Classification)\n",
    "# array of number of filters in each conv layer (Default: doubles the number of filters in each conv layer)\n",
    "# array of kernel sizes (Default: 5x5)\n",
    "# array of strides (Default: 1x1)\n",
    "# padding (Default: Valid (i.e. No padding))\n",
    "# \n",
    "# \n",
    "# activation functions(Default: None for hidden layers and for output layer: Softmax(Classification) or None(Regression))\n",
    "# activation function part is not added yet\n",
    "# \n",
    "# \n",
    "# \n",
    "# \n",
    "# \n"
   ]
  },
  {
   "cell_type": "code",
   "execution_count": null,
   "metadata": {},
   "outputs": [],
   "source": []
  },
  {
   "cell_type": "code",
   "execution_count": null,
   "metadata": {},
   "outputs": [],
   "source": []
  },
  {
   "cell_type": "code",
   "execution_count": null,
   "metadata": {},
   "outputs": [],
   "source": []
  },
  {
   "cell_type": "code",
   "execution_count": null,
   "metadata": {},
   "outputs": [],
   "source": []
  },
  {
   "cell_type": "code",
   "execution_count": null,
   "metadata": {},
   "outputs": [],
   "source": []
  }
 ],
 "metadata": {
  "kernelspec": {
   "display_name": "Python 3",
   "language": "python",
   "name": "python3"
  },
  "language_info": {
   "codemirror_mode": {
    "name": "ipython",
    "version": 3
   },
   "file_extension": ".py",
   "mimetype": "text/x-python",
   "name": "python",
   "nbconvert_exporter": "python",
   "pygments_lexer": "ipython3",
   "version": "3.6.9"
  }
 },
 "nbformat": 4,
 "nbformat_minor": 4
}
