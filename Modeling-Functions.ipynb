{
 "cells": [
  {
   "cell_type": "code",
   "execution_count": 27,
   "metadata": {},
   "outputs": [],
   "source": [
    "import tensorflow as tf\n",
    "import numpy as np\n",
    "from tensorflow.keras import Sequential\n",
    "from tensorflow.keras.layers import Dense, Conv2D\n",
    "from math import floor, ceil"
   ]
  },
  {
   "cell_type": "code",
   "execution_count": 43,
   "metadata": {},
   "outputs": [],
   "source": [
    "# Linear Neural Network / Multi Layer Perceptron Network\n",
    "\n",
    "\n",
    "# inputs to the construction function:\n",
    "# number of layers(compulsory, including input and output layers, >=2)\n",
    "# number of input variables(compulsory)\n",
    "# number of output variables(compulsory)\n",
    "# type of model: Regression or Classification (Default: Regression)\n",
    "# array of number of nodes in each hidden layer (Default: increases uniformly for half of the layers and then decreases uniformly for the latter half)\n",
    "# activation functions(Default: None for hidden layers and for output layer: Softmax(Classification) or None(Regression))\n",
    "# activation function part is not added yet\n",
    "\n",
    "def createDenseNetwork(numberOfLayers, numberOfInputNodes, numberOfOutputNodes, typeOfModel = \"Regression\", hiddenLayerNodes = None, activationFunctions = None):\n",
    "    model = Sequential()\n",
    "    if numberOfLayers<2:\n",
    "        print(\"Dude seriously??!!!!!! number of layers is less than 2, not possible...\")\n",
    "        # throw exception\n",
    "        return model\n",
    "    elif (int(numberOfInputNodes) != numberOfInputNodes):\n",
    "        print(\"Bro seriously?! fractional nodes?!\")\n",
    "        # throw exception\n",
    "        return model\n",
    "    elif numberOfLayers == 2:\n",
    "        model.add(Dense(numberOfOutputNodes, input_shape = (numberOfInputNodes,)))\n",
    "        model.summary()\n",
    "        return model\n",
    "    else:\n",
    "        numberOfHiddenLayers = numberOfLayers - 2\n",
    "        if hiddenLayerNodes == None:\n",
    "            threshold = 512\n",
    "            model.add(Dense(min(numberOfInputNodes*2,threshold), input_shape = (numberOfInputNodes,)))\n",
    "            print(\"numberOfHiddenLayers: \\t\",ceil(numberOfHiddenLayers))\n",
    "            print(\"Ceil value: \\t\",ceil(numberOfHiddenLayers/2))\n",
    "            for layer in range(1,ceil(numberOfHiddenLayers/2)):\n",
    "                nodeCount = min(numberOfInputNodes*(2**(layer+1)),threshold)\n",
    "                model.add(Dense(nodeCount))\n",
    "                print(nodeCount)\n",
    "            for layer in range(ceil(numberOfHiddenLayers/2),numberOfHiddenLayers):\n",
    "                nodeCount = max(nodeCount,numberOfOutputNodes)\n",
    "                model.add(Dense(nodeCount))\n",
    "                nodeCount = int(nodeCount/2)\n",
    "        else:\n",
    "            model.add(Dense(hiddenLayerNodes[0], input_shape = (numberOfInputNodes,)))\n",
    "            for nodeCount in range(1,len(hiddenLayerNodes)):\n",
    "                model.add(Dense(hiddenLayerNodes[nodeCount]))\n",
    "                \n",
    "        if typeOfModel == \"Regression\":\n",
    "            model.add(Dense(numberOfOutputNodes))\n",
    "        elif typeOfModel == \"Classification\":\n",
    "            model.add(Dense(numberOfOutputNodes, activation = \"softmax\"))\n",
    "        \n",
    "        model.summary()\n",
    "        return model\n",
    "                \n",
    "            \n",
    "    "
   ]
  },
  {
   "cell_type": "code",
   "execution_count": 44,
   "metadata": {},
   "outputs": [
    {
     "name": "stdout",
     "output_type": "stream",
     "text": [
      "Model: \"sequential_21\"\n",
      "_________________________________________________________________\n",
      "Layer (type)                 Output Shape              Param #   \n",
      "=================================================================\n",
      "dense_26 (Dense)             (None, 1)                 6         \n",
      "=================================================================\n",
      "Total params: 6\n",
      "Trainable params: 6\n",
      "Non-trainable params: 0\n",
      "_________________________________________________________________\n",
      "Model: \"sequential_21\"\n",
      "_________________________________________________________________\n",
      "Layer (type)                 Output Shape              Param #   \n",
      "=================================================================\n",
      "dense_26 (Dense)             (None, 1)                 6         \n",
      "=================================================================\n",
      "Total params: 6\n",
      "Trainable params: 6\n",
      "Non-trainable params: 0\n",
      "_________________________________________________________________\n"
     ]
    }
   ],
   "source": [
    "trialModel = createDenseNetwork(2,5,1)\n",
    "trialModel.summary()"
   ]
  },
  {
   "cell_type": "code",
   "execution_count": 45,
   "metadata": {},
   "outputs": [
    {
     "name": "stdout",
     "output_type": "stream",
     "text": [
      "numberOfHiddenLayers: \t 3\n",
      "Ceil value: \t 2\n",
      "20\n",
      "Model: \"sequential_22\"\n",
      "_________________________________________________________________\n",
      "Layer (type)                 Output Shape              Param #   \n",
      "=================================================================\n",
      "dense_27 (Dense)             (None, 10)                60        \n",
      "_________________________________________________________________\n",
      "dense_28 (Dense)             (None, 20)                220       \n",
      "_________________________________________________________________\n",
      "dense_29 (Dense)             (None, 20)                420       \n",
      "_________________________________________________________________\n",
      "dense_30 (Dense)             (None, 1)                 21        \n",
      "=================================================================\n",
      "Total params: 721\n",
      "Trainable params: 721\n",
      "Non-trainable params: 0\n",
      "_________________________________________________________________\n"
     ]
    }
   ],
   "source": [
    "trialModel2 = createDenseNetwork(5,5,1)"
   ]
  },
  {
   "cell_type": "code",
   "execution_count": null,
   "metadata": {},
   "outputs": [],
   "source": []
  },
  {
   "cell_type": "code",
   "execution_count": 4,
   "metadata": {},
   "outputs": [
    {
     "name": "stdout",
     "output_type": "stream",
     "text": [
      "0\n"
     ]
    }
   ],
   "source": [
    "# Pro Coder Debugging\n",
    "for i in range(1):\n",
    "    print(i)"
   ]
  },
  {
   "cell_type": "code",
   "execution_count": null,
   "metadata": {},
   "outputs": [],
   "source": []
  },
  {
   "cell_type": "code",
   "execution_count": null,
   "metadata": {},
   "outputs": [],
   "source": []
  },
  {
   "cell_type": "code",
   "execution_count": null,
   "metadata": {},
   "outputs": [],
   "source": []
  },
  {
   "cell_type": "code",
   "execution_count": null,
   "metadata": {},
   "outputs": [],
   "source": []
  },
  {
   "cell_type": "code",
   "execution_count": null,
   "metadata": {},
   "outputs": [],
   "source": []
  },
  {
   "cell_type": "code",
   "execution_count": null,
   "metadata": {},
   "outputs": [],
   "source": []
  }
 ],
 "metadata": {
  "kernelspec": {
   "display_name": "Python 3",
   "language": "python",
   "name": "python3"
  },
  "language_info": {
   "codemirror_mode": {
    "name": "ipython",
    "version": 3
   },
   "file_extension": ".py",
   "mimetype": "text/x-python",
   "name": "python",
   "nbconvert_exporter": "python",
   "pygments_lexer": "ipython3",
   "version": "3.6.9"
  }
 },
 "nbformat": 4,
 "nbformat_minor": 4
}
